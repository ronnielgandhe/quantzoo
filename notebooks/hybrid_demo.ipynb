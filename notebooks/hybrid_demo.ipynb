{
 "cells": [
  {
   "cell_type": "markdown",
   "id": "58057580",
   "metadata": {},
   "source": [
    "# Hybrid News+Price Transformer Demo\n",
    "Train and evaluate a hybrid transformer model on synthetic sample data."
   ]
  },
  {
   "cell_type": "code",
   "execution_count": null,
   "id": "862616e8",
   "metadata": {},
   "outputs": [],
   "source": [
    "import yaml\n",
    "from ml.train_transformer import main\n",
    "main() # See CLI usage in README"
   ]
  }
 ],
 "metadata": {
  "language_info": {
   "name": "python"
  }
 },
 "nbformat": 4,
 "nbformat_minor": 5
}
